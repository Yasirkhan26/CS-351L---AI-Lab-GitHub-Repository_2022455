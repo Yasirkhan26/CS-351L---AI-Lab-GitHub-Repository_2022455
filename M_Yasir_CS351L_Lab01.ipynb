{
  "nbformat": 4,
  "nbformat_minor": 0,
  "metadata": {
    "colab": {
      "provenance": [],
      "authorship_tag": "ABX9TyMaVcPpyTf/6f5u/8vc5MTn",
      "include_colab_link": true
    },
    "kernelspec": {
      "name": "python3",
      "display_name": "Python 3"
    },
    "language_info": {
      "name": "python"
    }
  },
  "cells": [
    {
      "cell_type": "markdown",
      "metadata": {
        "id": "view-in-github",
        "colab_type": "text"
      },
      "source": [
        "<a href=\"https://colab.research.google.com/github/Yasirkhan26/CS-351L---AI-Lab-GitHub-Repository_2022455/blob/main/M_Yasir_CS351L_Lab01.ipynb\" target=\"_parent\"><img src=\"https://colab.research.google.com/assets/colab-badge.svg\" alt=\"Open In Colab\"/></a>"
      ]
    },
    {
      "cell_type": "markdown",
      "source": [
        "**Lab Task 1**\n",
        "**BFS Code **\n",
        "\n",
        "Start with a queue containing all numbers between 1 and 100.\n",
        "\n",
        "Dequeue the first number as the AI's guess.\n",
        "Based on feedback ('h' for high, 'l' for low, 'c' for correct), adjust the queue:\n",
        "'h': Remove all numbers greater than the guess.\n",
        "'l': Remove all numbers less than the guess.\n",
        "\n",
        " Continue until the AI guesses correctly or the queue is empty.\n"
      ],
      "metadata": {
        "id": "RX5xGbnCPT2x"
      }
    },
    {
      "cell_type": "code",
      "source": [
        "from collections import deque\n",
        "\n",
        "def bfs_number_guessing_game():\n",
        "    print(\"Think of a number between 1 and 100, and I (the AI) will try to guess it using BFS.\")\n",
        "\n",
        "    low = 1\n",
        "    high = 100\n",
        "    mid = (low + high) // 2\n",
        "\n",
        "    queue = deque([mid])\n",
        "    attempts = 0\n",
        "    visited = set()\n",
        "\n",
        "    while queue:\n",
        "        guess = queue.popleft()\n",
        "        attempts += 1\n",
        "        if guess in visited:\n",
        "            continue  # Skip already guessed numbers\n",
        "        visited.add(guess)\n",
        "\n",
        "        print(f\"AI's guess is: {guess}\")\n",
        "        feedback = input(\"Enter 'h' if too high, 'l' if too low, or 'c' if correct: \").lower()\n",
        "\n",
        "        if feedback == 'c':\n",
        "            print(f\"I (AI) guessed the number in {attempts} attempts using BFS!\")\n",
        "            return\n",
        "        elif feedback == 'h':\n",
        "            for i in range(guess-1, low-1, -1):\n",
        "                if i not in visited:\n",
        "                    queue.append(i)\n",
        "        elif feedback == 'l':\n",
        "            for i in range(guess+1, high+1):\n",
        "                if i not in visited:\n",
        "                    queue.append(i)\n",
        "\n",
        "    print(\"Something went wrong!\")\n",
        "\n",
        "# Run the BFS version\n",
        "bfs_number_guessing_game()\n"
      ],
      "metadata": {
        "colab": {
          "base_uri": "https://localhost:8080/"
        },
        "collapsed": true,
        "id": "H6Y80MwIPWJa",
        "outputId": "f542c9cc-ae41-4140-94b6-bf730cbaeca0"
      },
      "execution_count": 3,
      "outputs": [
        {
          "output_type": "stream",
          "name": "stdout",
          "text": [
            "Think of a number between 1 and 100, and I (the AI) will try to guess it using BFS.\n",
            "AI's guess is: 50\n",
            "Enter 'h' if too high, 'l' if too low, or 'c' if correct: l\n",
            "AI's guess is: 51\n",
            "Enter 'h' if too high, 'l' if too low, or 'c' if correct: h\n",
            "AI's guess is: 52\n",
            "Enter 'h' if too high, 'l' if too low, or 'c' if correct: h\n",
            "AI's guess is: 53\n",
            "Enter 'h' if too high, 'l' if too low, or 'c' if correct: h\n",
            "AI's guess is: 54\n",
            "Enter 'h' if too high, 'l' if too low, or 'c' if correct: c\n",
            "I (AI) guessed the number in 5 attempts using BFS!\n"
          ]
        }
      ]
    },
    {
      "cell_type": "markdown",
      "source": [
        "**DFS**\n",
        "\n",
        "DFS (Depth-First Search) uses a stack to explore numbers deeply before backtracking. In this number guessing game, the AI starts by guessing the middle number and then explores either higher or lower numbers based on feedback.\n",
        "\n",
        "Process:\n",
        "Initialization: Begin with a stack containing the full range of numbers (1 to 100).\n",
        "\n",
        "Guessing:\n",
        "\n",
        "Pop a range from the stack and make a guess from this range.\n",
        "Based on feedback:\n",
        "If the guess is too high, push the lower part of the range back onto the stack for further exploration.\n",
        "If the guess is too low, push the higher part of the range onto the stack.\n",
        "Termination:\n",
        "\n",
        "Continue guessing and adjusting ranges until the correct number is found.\n",
        "When the AI guesses correctly, it prints the number of attempts taken.\n",
        "If the stack is exhausted without finding the correct number, it indicates an error.\n",
        "This method systematically narrows down the possible numbers by exploring deeply and backtracking as necessary.\n"
      ],
      "metadata": {
        "id": "8d-J2YQQRZ4Q"
      }
    },
    {
      "cell_type": "code",
      "source": [
        "def dfs_number_guessing_game():\n",
        "    print(\"Think of a number between 1 and 100, and I (the AI) will try to guess it using DFS.\")\n",
        "\n",
        "    low = 1\n",
        "    high = 100\n",
        "    attempts = 0\n",
        "    stack = [(low, high)]  # Stack maintains the range to explore\n",
        "\n",
        "    while stack:\n",
        "        low, high = stack.pop()\n",
        "        if low > high:\n",
        "            continue\n",
        "\n",
        "        guess = (low + high) // 2\n",
        "        attempts += 1\n",
        "\n",
        "        print(f\"AI's guess is: {guess}\")\n",
        "        feedback = input(\"Enter 'h' if too high, 'l' if too low, or 'c' if correct: \").lower()\n",
        "\n",
        "        if feedback == 'c':\n",
        "            print(f\"I (AI) guessed the number in {attempts} attempts using DFS!\")\n",
        "            return\n",
        "        elif feedback == 'h':\n",
        "            stack.append((low, guess - 1))  # Explore the lower range\n",
        "        elif feedback == 'l':\n",
        "            stack.append((guess + 1, high))  # Explore the higher range\n",
        "\n",
        "    print(\"Something went wrong!\")\n",
        "\n",
        "# Run the DFS version\n",
        "dfs_number_guessing_game()\n"
      ],
      "metadata": {
        "colab": {
          "base_uri": "https://localhost:8080/"
        },
        "id": "J497SlbeRlDy",
        "outputId": "61ff03fb-a5bc-4003-96e1-88d6c7b92ff4"
      },
      "execution_count": null,
      "outputs": [
        {
          "output_type": "stream",
          "name": "stdout",
          "text": [
            "Think of a number between 1 and 100, and I (the AI) will try to guess it using DFS.\n",
            "AI's guess is: 50\n",
            "Enter 'h' if too high, 'l' if too low, or 'c' if correct: l\n",
            "AI's guess is: 75\n"
          ]
        }
      ]
    },
    {
      "cell_type": "markdown",
      "source": [
        "**Linear Search**\n",
        "\n",
        "In the Linear Search approach, the AI starts from the lowest number and incrementally guesses each number until it finds the correct one. This approach is less efficient than binary search but is easy to understand and implement."
      ],
      "metadata": {
        "id": "3YXJJVoESdrI"
      }
    },
    {
      "cell_type": "code",
      "source": [
        "def linear_search_number_guessing_game():\n",
        "    # Player selects a number\n",
        "    print(\"Think of a number between 1 and 100, and I (the AI) will try to guess it.\")\n",
        "\n",
        "    low = 1\n",
        "    high = 100\n",
        "    attempts = 0\n",
        "\n",
        "    # Start guessing from the lowest number\n",
        "    for guess in range(low, high + 1):\n",
        "        attempts += 1\n",
        "\n",
        "        print(f\"AI's guess is: {guess}\")\n",
        "        feedback = input(\"Enter 'h' if too high, 'l' if too low, or 'c' if correct: \").lower()\n",
        "\n",
        "        if feedback == 'c':\n",
        "            print(f\"I (AI) guessed the number in {attempts} attempts!\")\n",
        "            return\n",
        "        elif feedback == 'h':\n",
        "            # If the guess is too high, continue with the next guess\n",
        "            continue\n",
        "        elif feedback == 'l':\n",
        "            # If the guess is too low, continue with the next guess\n",
        "            continue\n",
        "        else:\n",
        "            print(\"Invalid input. Please enter 'h', 'l', or 'c'.\")\n",
        "\n",
        "    print(\"Something went wrong! The correct number was not guessed.\")\n",
        "\n",
        "# Run the Linear Search version\n",
        "linear_search_number_guessing_game()\n"
      ],
      "metadata": {
        "id": "2y1hg_N5TymU"
      },
      "execution_count": null,
      "outputs": []
    }
  ]
}